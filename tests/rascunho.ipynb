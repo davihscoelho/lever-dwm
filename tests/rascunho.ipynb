{
 "cells": [
  {
   "cell_type": "code",
   "execution_count": 1,
   "id": "53af27f7",
   "metadata": {},
   "outputs": [],
   "source": [
    "from google.oauth2 import service_account\n",
    "from googleapiclient.discovery import build\n",
    "import duckdb\n",
    "import pandas as pd\n",
    "import gspread\n",
    "import re"
   ]
  },
  {
   "cell_type": "code",
   "execution_count": 2,
   "id": "39b6679c",
   "metadata": {},
   "outputs": [],
   "source": [
    "SCOPES = [\n",
    "    \"https://www.googleapis.com/auth/drive.readonly\",\n",
    "    \"https://www.googleapis.com/auth/spreadsheets.readonly\",\n",
    "]\n",
    "SA_PATH = \"../config/poc-pipeline-461721-6aff0d3b47eb.json\"  # caminho para o JSON da service account\n",
    "ROOT_FOLDER_ID = \"1umg5he9khM4PP_0rGSt5W9N0J-91DfCo\"  # opcionalmente substitua por um ID de pasta específico\n",
    "\n",
    "creds = service_account.Credentials.from_service_account_file(SA_PATH, scopes=SCOPES)\n",
    "drive = build(\"drive\", \"v3\", credentials=creds)\n",
    "sheets_api = build(\"sheets\", \"v4\", credentials=creds)\n",
    "gc = gspread.authorize(creds)"
   ]
  },
  {
   "cell_type": "code",
   "execution_count": 17,
   "id": "b64b7ba2",
   "metadata": {},
   "outputs": [],
   "source": [
    "sh = gc.open_by_key(\"1jww0lMW86Qe743lt8zOf4icWq3_Iz5rvqBbqKwuL9aI\")\n",
    "ws = sh.worksheets()"
   ]
  },
  {
   "cell_type": "code",
   "execution_count": 35,
   "id": "592daa45",
   "metadata": {},
   "outputs": [
    {
     "name": "stdout",
     "output_type": "stream",
     "text": [
      "<Worksheet 'inputs' id:704503947>\n",
      "<Worksheet 'grupo' id:1659275219>\n",
      "<Worksheet 'receitas' id:1347168356>\n",
      "<Worksheet 'despesas' id:2002899149>\n"
     ]
    }
   ],
   "source": [
    "for ws in sh.worksheets():\n",
    "    print(ws)"
   ]
  },
  {
   "cell_type": "code",
   "execution_count": null,
   "id": "7d4dfacd",
   "metadata": {},
   "outputs": [],
   "source": [
    "def upsert_table_simple_pk(conn, df: pd.DataFrame, table_name: str, key_cols: list):\n",
    "    \"\"\"\n",
    "    Upserts a DataFrame into a DuckDB table using INSERT OR REPLACE.\n",
    "    Requires the table to have a PRIMARY KEY defined on key_cols.\n",
    "    \"\"\"\n",
    "    if not key_cols:\n",
    "        raise ValueError(\"key_cols must be provided for INSERT OR REPLACE upsert.\")\n",
    "\n",
    "    # 1. Criar uma tabela temporária com os novos dados\n",
    "    temp_table_name = f\"{table_name}_temp_new_data\"\n",
    "    df.to_sql(temp_table_name, conn, if_exists=\"replace\", index=False)\n",
    "\n",
    "    # 2. Verificar se a tabela principal existe e criar se não\n",
    "    table_exists = conn.execute(f\"\"\"\n",
    "        SELECT COUNT(*) FROM information_schema.tables\n",
    "        WHERE table_name = '{table_name}'\n",
    "    \"\"\").fetchone()[0] > 0\n",
    "\n",
    "    if not table_exists:\n",
    "        # Se a tabela não existe, crie-a a partir dos dados temporários\n",
    "        conn.execute(f\"CREATE TABLE {table_name} AS SELECT * FROM {temp_table_name}\")\n",
    "        # Adicione a chave primária\n",
    "        conn.execute(f\"ALTER TABLE {table_name} ADD PRIMARY KEY ({', '.join(key_cols)})\")\n",
    "    else:\n",
    "        # Se a tabela existe, use INSERT OR REPLACE para upsert\n",
    "        # Isso funciona porque a tabela principal tem uma PRIMARY KEY\n",
    "        conn.execute(f\"INSERT OR REPLACE INTO {table_name} SELECT * FROM {temp_table_name}\")\n",
    "\n",
    "    # 3. Limpar a tabela temporária\n",
    "    conn.execute(f\"DROP TABLE {temp_table_name}\")"
   ]
  },
  {
   "cell_type": "code",
   "execution_count": 13,
   "id": "024647b9",
   "metadata": {},
   "outputs": [],
   "source": [
    "import duckdb\n",
    "import pandas as pd\n",
    "conn = duckdb.connect(database=\":memory:\", read_only=False)"
   ]
  },
  {
   "cell_type": "code",
   "execution_count": 14,
   "id": "1c355d41",
   "metadata": {},
   "outputs": [],
   "source": [
    "# Dados iniciais\n",
    "data1 = {'id': [1, 2], 'value': ['A', 'B']}\n",
    "df1 = pd.DataFrame(data1)"
   ]
  },
  {
   "cell_type": "code",
   "execution_count": 17,
   "id": "4adc82b0",
   "metadata": {},
   "outputs": [
    {
     "name": "stdout",
     "output_type": "stream",
     "text": [
      "Após primeira inserção:\n",
      "┌───────┬─────────┐\n",
      "│  id   │  value  │\n",
      "│ int32 │ varchar │\n",
      "├───────┼─────────┤\n",
      "│     1 │ A       │\n",
      "│     2 │ B       │\n",
      "└───────┴─────────┘\n",
      "\n",
      "None\n"
     ]
    },
    {
     "name": "stderr",
     "output_type": "stream",
     "text": [
      "C:\\Users\\davi_\\AppData\\Local\\Temp\\ipykernel_17872\\1309856605.py:13: UserWarning: pandas only supports SQLAlchemy connectable (engine/connection) or database string URI or sqlite3 DBAPI2 connection. Other DBAPI2 objects are not tested. Please consider using SQLAlchemy.\n",
      "  df.to_sql(temp_table_name, conn, if_exists=\"replace\", index=False)\n"
     ]
    }
   ],
   "source": [
    "upsert_table_simple_pk(conn, df1, \"my_data\", [\"id\"])\n",
    "print(\"Após primeira inserção:\")\n",
    "print(conn.sql(\"SELECT * FROM my_data\").show())"
   ]
  },
  {
   "cell_type": "code",
   "execution_count": 18,
   "id": "a279f8c4",
   "metadata": {},
   "outputs": [
    {
     "name": "stdout",
     "output_type": "stream",
     "text": [
      "\n",
      "Após upsert:\n",
      "┌───────┬───────────┐\n",
      "│  id   │   value   │\n",
      "│ int32 │  varchar  │\n",
      "├───────┼───────────┤\n",
      "│     1 │ A_updated │\n",
      "│     2 │ B         │\n",
      "│     3 │ C         │\n",
      "└───────┴───────────┘\n",
      "\n",
      "None\n"
     ]
    },
    {
     "name": "stderr",
     "output_type": "stream",
     "text": [
      "C:\\Users\\davi_\\AppData\\Local\\Temp\\ipykernel_17872\\1309856605.py:13: UserWarning: pandas only supports SQLAlchemy connectable (engine/connection) or database string URI or sqlite3 DBAPI2 connection. Other DBAPI2 objects are not tested. Please consider using SQLAlchemy.\n",
      "  df.to_sql(temp_table_name, conn, if_exists=\"replace\", index=False)\n"
     ]
    }
   ],
   "source": [
    "data2 = {'id': [1, 3], 'value': ['A_updated', 'C']}\n",
    "df2 = pd.DataFrame(data2)\n",
    "upsert_table_simple_pk(conn, df2, 'my_data', ['id'])\n",
    "print(\"\\nApós upsert:\")\n",
    "print(conn.sql(\"SELECT * FROM my_data\").show())"
   ]
  },
  {
   "cell_type": "code",
   "execution_count": null,
   "id": "34b6577c",
   "metadata": {},
   "outputs": [],
   "source": []
  }
 ],
 "metadata": {
  "kernelspec": {
   "display_name": "dwm",
   "language": "python",
   "name": "python3"
  },
  "language_info": {
   "codemirror_mode": {
    "name": "ipython",
    "version": 3
   },
   "file_extension": ".py",
   "mimetype": "text/x-python",
   "name": "python",
   "nbconvert_exporter": "python",
   "pygments_lexer": "ipython3",
   "version": "3.12.11"
  }
 },
 "nbformat": 4,
 "nbformat_minor": 5
}
